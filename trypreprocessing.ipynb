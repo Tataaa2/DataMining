{
 "cells": [
  {
   "cell_type": "code",
   "execution_count": 1,
   "id": "a490d5bd-b9f4-4451-a07d-1e8b85faa4d4",
   "metadata": {},
   "outputs": [],
   "source": [
    "import numpy as np\n",
    "import pandas as pd\n",
    "from sklearn.impute import SimpleImputer\n",
    "from sklearn.preprocessing import LabelEncoder, OneHotEncoder\n",
    "import matplotlib.pyplot as plt"
   ]
  },
  {
   "cell_type": "code",
   "execution_count": 3,
   "id": "bfbc0ecb-2dee-4c9e-8639-f3a463e79ce4",
   "metadata": {},
   "outputs": [
    {
     "name": "stdout",
     "output_type": "stream",
     "text": [
      "<class 'pandas.core.frame.DataFrame'>\n",
      "RangeIndex: 561 entries, 0 to 560\n",
      "Data columns (total 12 columns):\n",
      " #   Column                            Non-Null Count  Dtype \n",
      "---  ------                            --------------  ----- \n",
      " 0   NO                                561 non-null    int64 \n",
      " 1   NAMA                              561 non-null    object\n",
      " 2   USIA                              558 non-null    object\n",
      " 3   PARITAS                           561 non-null    int64 \n",
      " 4   JARAK KELAHIRAN                   554 non-null    object\n",
      " 5   RIW HIPERTENSI                    561 non-null    object\n",
      " 6   RIW PE                            561 non-null    object\n",
      " 7   OBESITAS                          561 non-null    object\n",
      " 8   RIW DM                            561 non-null    object\n",
      " 9   RIW HIPERTENSI/PE DALAM KELUARGA  561 non-null    object\n",
      " 10  SOSEK RENDAH                      561 non-null    object\n",
      " 11  PE/Non PE                         561 non-null    object\n",
      "dtypes: int64(2), object(10)\n",
      "memory usage: 52.7+ KB\n",
      "NO                                  0\n",
      "NAMA                                0\n",
      "USIA                                3\n",
      "PARITAS                             0\n",
      "JARAK KELAHIRAN                     7\n",
      "RIW HIPERTENSI                      0\n",
      "RIW PE                              0\n",
      "OBESITAS                            0\n",
      "RIW DM                              0\n",
      "RIW HIPERTENSI/PE DALAM KELUARGA    0\n",
      "SOSEK RENDAH                        0\n",
      "PE/Non PE                           0\n",
      "dtype: int64\n"
     ]
    }
   ],
   "source": [
    "# Membaca data dari file Excel\n",
    "datasets = pd.read_excel('dataKasus-1.xlsx')\n",
    "\n",
    "# Menghapus kolom yang tidak diperlukan\n",
    "datasets = datasets.drop(columns=['Unnamed: 12'])\n",
    "\n",
    "# Membersihkan nama kolom\n",
    "datasets.columns = datasets.columns.str.strip()\n",
    "\n",
    "# Menampilkan informasi awal\n",
    "datasets.info()\n",
    "\n",
    "# Menampilkan jumlah nilai NaN\n",
    "print(datasets.isnull().sum())"
   ]
  },
  {
   "cell_type": "code",
   "execution_count": 5,
   "id": "879df2fb-055d-4729-98af-549af6436908",
   "metadata": {},
   "outputs": [],
   "source": [
    "# Preprocessing kolom 'USIA'\n",
    "datasets['USIA'] = datasets['USIA'].fillna('').str.extract('(\\d+)')[0].astype(float)\n",
    "datasets['USIA'].fillna(datasets['USIA'].mean(), inplace=True)"
   ]
  },
  {
   "cell_type": "code",
   "execution_count": 7,
   "id": "7de85d1b-b07e-4fcc-b7c0-9489c7c8cfa7",
   "metadata": {},
   "outputs": [],
   "source": [
    "# Preprocessing kolom 'JARAK KELAHIRAN'\n",
    "imputer = SimpleImputer(strategy='most_frequent')\n",
    "datasets['JARAK KELAHIRAN'] = imputer.fit_transform(datasets[['JARAK KELAHIRAN']]).ravel()\n",
    "datasets['JARAK KELAHIRAN'] = datasets['JARAK KELAHIRAN'].replace('> 2 tahun ', '> 2 tahun')"
   ]
  },
  {
   "cell_type": "code",
   "execution_count": 9,
   "id": "14ba7c8c-df4c-42a4-81ed-fc7800a5f2ce",
   "metadata": {},
   "outputs": [],
   "source": [
    "# Preprocessing kolom 'RIW PE'\n",
    "datasets['RIW PE'] = datasets['RIW PE'].replace(\n",
    "    ['PEB', 'PE', 'HELLP SYNDROM', 'Impending PE', 'Impending Eklamsia', 'PE, HELLP Syndrome', \n",
    "     'PEB impending eklampsi', 'Impending Ekalmsia', 'Kejang Konvulsi', 'impending eklamsia'], 'Ada')"
   ]
  },
  {
   "cell_type": "code",
   "execution_count": 11,
   "id": "4f94739d-f596-4f17-9d2d-45612a6555e2",
   "metadata": {},
   "outputs": [],
   "source": [
    "# Menstandarkan kategori target\n",
    "datasets['PE/Non PE'] = datasets['PE/Non PE'].replace(\n",
    "    ['PEB', 'PE', 'Eklamsia', 'PE gemelli', 'PEB impending eklampsi', 'PE '], 'PE')"
   ]
  },
  {
   "cell_type": "code",
   "execution_count": 13,
   "id": "d14ab7d7-ba39-4529-a47f-72acc2434b12",
   "metadata": {},
   "outputs": [],
   "source": [
    "# Label encoding untuk kolom target\n",
    "label_encoder = LabelEncoder()\n",
    "datasets['PE/Non PE'] = label_encoder.fit_transform(datasets['PE/Non PE'])"
   ]
  },
  {
   "cell_type": "code",
   "execution_count": 15,
   "id": "034eb98a-b510-449f-9397-1031d9ebe18b",
   "metadata": {},
   "outputs": [],
   "source": [
    "# One-hot encoding untuk kolom-kolom kategorikal\n",
    "columns_to_encode = ['RIW HIPERTENSI', 'RIW PE', 'OBESITAS', 'RIW DM', 'RIW HIPERTENSI/PE DALAM KELUARGA', 'SOSEK RENDAH']\n",
    "encoder = OneHotEncoder(sparse_output=False)\n",
    "\n",
    "for col in columns_to_encode:\n",
    "    one_hot_encoded = encoder.fit_transform(datasets[[col]])\n",
    "    one_hot_df = pd.DataFrame(one_hot_encoded, columns=encoder.get_feature_names_out([col]))\n",
    "    datasets = pd.concat([datasets.drop(col, axis=1), one_hot_df], axis=1)"
   ]
  },
  {
   "cell_type": "code",
   "execution_count": 17,
   "id": "ecee81ce-b3ac-4ae1-865d-533123b3a8e3",
   "metadata": {},
   "outputs": [
    {
     "data": {
      "image/png": "[encoded data removed]",
      "text/plain": [
       "<Figure size 640x480 with 1 Axes>"
      ]
     },
     "metadata": {},
     "output_type": "display_data"
    }
   ],
   "source": [
    "# Menampilkan distribusi target\n",
    "value_counts = datasets['PE/Non PE'].value_counts()\n",
    "ax = value_counts.plot(kind='bar', color=['skyblue', 'orange'])\n",
    "plt.title('PE/Non PE Distribution')\n",
    "plt.xlabel('Category')\n",
    "plt.ylabel('Count')\n",
    "for i, count in enumerate(value_counts):\n",
    "    ax.text(i, count, str(count), ha='center', va='bottom')\n",
    "plt.show()"
   ]
  },
  {
   "cell_type": "code",
   "execution_count": null,
   "id": "fc499ec9-2051-4625-99fe-b1da69bdcd7c",
   "metadata": {},
   "outputs": [],
   "source": []
  }
 ],
 "metadata": {
  "kernelspec": {
   "display_name": "Python 3 (ipykernel)",
   "language": "python",
   "name": "python3"
  },
  "language_info": {
   "codemirror_mode": {
    "name": "ipython",
    "version": 3
   },
   "file_extension": ".py",
   "mimetype": "text/x-python",
   "name": "python",
   "nbconvert_exporter": "python",
   "pygments_lexer": "ipython3",
   "version": "3.11.7"
  }
 },
 "nbformat": 4,
 "nbformat_minor": 5
}
